{
 "cells": [
  {
   "cell_type": "code",
   "execution_count": 1,
   "id": "161ad27e",
   "metadata": {},
   "outputs": [],
   "source": [
    "\n",
    "import os\n",
    "\n",
    "import statistics as s\n",
    "\n",
    "import json\n",
    "import requests\n",
    "\n",
    "from functools import reduce\n",
    "import operator\n",
    "\n",
    "import pandas as pd\n",
    "import numpy as np\n",
    "\n",
    "\n",
    "\n",
    "# Databases\n",
    "import sqlalchemy as alch\n",
    "from getpass import getpass\n",
    "from pymongo import MongoClient\n",
    "\n"
   ]
  },
  {
   "cell_type": "code",
   "execution_count": 8,
   "id": "cd1a262f",
   "metadata": {},
   "outputs": [
    {
     "data": {
      "text/plain": [
       "<Response [200]>"
      ]
     },
     "execution_count": 8,
     "metadata": {},
     "output_type": "execute_result"
    }
   ],
   "source": [
    "response = requests.get(\"http://127.0.0.1:9000\",timeout=1)\n",
    "response"
   ]
  },
  {
   "cell_type": "code",
   "execution_count": 11,
   "id": "93f7df6d",
   "metadata": {},
   "outputs": [
    {
     "data": {
      "text/plain": [
       "<Response [200]>"
      ]
     },
     "execution_count": 11,
     "metadata": {},
     "output_type": "execute_result"
    }
   ],
   "source": [
    "requests.post(\"http://127.0.0.1:9000/post\", data=dikt)"
   ]
  },
  {
   "cell_type": "code",
   "execution_count": 12,
   "id": "3ae3dd01",
   "metadata": {},
   "outputs": [],
   "source": [
    "dikt = {\"playlist\":\"Nostalgia\",\n",
    "        \"song\":\"song here\", \n",
    "        \"artist\": \"artist here\",\n",
    "        \"lyrics\": \"\"\"lyrics here\"\"\"}"
   ]
  },
  {
   "cell_type": "code",
   "execution_count": null,
   "id": "39fb0163",
   "metadata": {},
   "outputs": [],
   "source": []
  }
 ],
 "metadata": {
  "kernelspec": {
   "display_name": "Python 3 (ipykernel)",
   "language": "python",
   "name": "python3"
  },
  "language_info": {
   "codemirror_mode": {
    "name": "ipython",
    "version": 3
   },
   "file_extension": ".py",
   "mimetype": "text/x-python",
   "name": "python",
   "nbconvert_exporter": "python",
   "pygments_lexer": "ipython3",
   "version": "3.9.12"
  }
 },
 "nbformat": 4,
 "nbformat_minor": 5
}
